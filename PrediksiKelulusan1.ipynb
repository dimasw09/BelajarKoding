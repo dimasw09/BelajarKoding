{
  "cells": [
    {
      "cell_type": "markdown",
      "metadata": {
        "id": "view-in-github",
        "colab_type": "text"
      },
      "source": [
        "<a href=\"https://colab.research.google.com/github/dimasw09/BelajarKoding/blob/main/PrediksiKelulusan1.ipynb\" target=\"_parent\"><img src=\"https://colab.research.google.com/assets/colab-badge.svg\" alt=\"Open In Colab\"/></a>"
      ]
    },
    {
      "cell_type": "code",
      "execution_count": 1,
      "metadata": {
        "colab": {
          "base_uri": "https://localhost:8080/",
          "height": 423
        },
        "id": "gArDDLSXdvvf",
        "outputId": "2d76f0f9-6cbf-4b47-951e-b90171310dde"
      },
      "outputs": [
        {
          "output_type": "execute_result",
          "data": {
            "text/plain": [
              "     Tahun Masuk  IPK  SKS  Status Kelulusan\n",
              "0           2015    4  103                 1\n",
              "1           2015    3  103                 1\n",
              "2           2015    3   98                 0\n",
              "3           2015    3  101                 1\n",
              "4           2015    3  101                 0\n",
              "..           ...  ...  ...               ...\n",
              "165         2016    3    8                 1\n",
              "166         2016    3   72                 1\n",
              "167         2016    3  112                 1\n",
              "168         2017    3   84                 1\n",
              "169         2017    3   38                 1\n",
              "\n",
              "[170 rows x 4 columns]"
            ],
            "text/html": [
              "\n",
              "  <div id=\"df-8c9bc04c-20d7-494e-b8da-8099924e470a\">\n",
              "    <div class=\"colab-df-container\">\n",
              "      <div>\n",
              "<style scoped>\n",
              "    .dataframe tbody tr th:only-of-type {\n",
              "        vertical-align: middle;\n",
              "    }\n",
              "\n",
              "    .dataframe tbody tr th {\n",
              "        vertical-align: top;\n",
              "    }\n",
              "\n",
              "    .dataframe thead th {\n",
              "        text-align: right;\n",
              "    }\n",
              "</style>\n",
              "<table border=\"1\" class=\"dataframe\">\n",
              "  <thead>\n",
              "    <tr style=\"text-align: right;\">\n",
              "      <th></th>\n",
              "      <th>Tahun Masuk</th>\n",
              "      <th>IPK</th>\n",
              "      <th>SKS</th>\n",
              "      <th>Status Kelulusan</th>\n",
              "    </tr>\n",
              "  </thead>\n",
              "  <tbody>\n",
              "    <tr>\n",
              "      <th>0</th>\n",
              "      <td>2015</td>\n",
              "      <td>4</td>\n",
              "      <td>103</td>\n",
              "      <td>1</td>\n",
              "    </tr>\n",
              "    <tr>\n",
              "      <th>1</th>\n",
              "      <td>2015</td>\n",
              "      <td>3</td>\n",
              "      <td>103</td>\n",
              "      <td>1</td>\n",
              "    </tr>\n",
              "    <tr>\n",
              "      <th>2</th>\n",
              "      <td>2015</td>\n",
              "      <td>3</td>\n",
              "      <td>98</td>\n",
              "      <td>0</td>\n",
              "    </tr>\n",
              "    <tr>\n",
              "      <th>3</th>\n",
              "      <td>2015</td>\n",
              "      <td>3</td>\n",
              "      <td>101</td>\n",
              "      <td>1</td>\n",
              "    </tr>\n",
              "    <tr>\n",
              "      <th>4</th>\n",
              "      <td>2015</td>\n",
              "      <td>3</td>\n",
              "      <td>101</td>\n",
              "      <td>0</td>\n",
              "    </tr>\n",
              "    <tr>\n",
              "      <th>...</th>\n",
              "      <td>...</td>\n",
              "      <td>...</td>\n",
              "      <td>...</td>\n",
              "      <td>...</td>\n",
              "    </tr>\n",
              "    <tr>\n",
              "      <th>165</th>\n",
              "      <td>2016</td>\n",
              "      <td>3</td>\n",
              "      <td>8</td>\n",
              "      <td>1</td>\n",
              "    </tr>\n",
              "    <tr>\n",
              "      <th>166</th>\n",
              "      <td>2016</td>\n",
              "      <td>3</td>\n",
              "      <td>72</td>\n",
              "      <td>1</td>\n",
              "    </tr>\n",
              "    <tr>\n",
              "      <th>167</th>\n",
              "      <td>2016</td>\n",
              "      <td>3</td>\n",
              "      <td>112</td>\n",
              "      <td>1</td>\n",
              "    </tr>\n",
              "    <tr>\n",
              "      <th>168</th>\n",
              "      <td>2017</td>\n",
              "      <td>3</td>\n",
              "      <td>84</td>\n",
              "      <td>1</td>\n",
              "    </tr>\n",
              "    <tr>\n",
              "      <th>169</th>\n",
              "      <td>2017</td>\n",
              "      <td>3</td>\n",
              "      <td>38</td>\n",
              "      <td>1</td>\n",
              "    </tr>\n",
              "  </tbody>\n",
              "</table>\n",
              "<p>170 rows × 4 columns</p>\n",
              "</div>\n",
              "      <button class=\"colab-df-convert\" onclick=\"convertToInteractive('df-8c9bc04c-20d7-494e-b8da-8099924e470a')\"\n",
              "              title=\"Convert this dataframe to an interactive table.\"\n",
              "              style=\"display:none;\">\n",
              "        \n",
              "  <svg xmlns=\"http://www.w3.org/2000/svg\" height=\"24px\"viewBox=\"0 0 24 24\"\n",
              "       width=\"24px\">\n",
              "    <path d=\"M0 0h24v24H0V0z\" fill=\"none\"/>\n",
              "    <path d=\"M18.56 5.44l.94 2.06.94-2.06 2.06-.94-2.06-.94-.94-2.06-.94 2.06-2.06.94zm-11 1L8.5 8.5l.94-2.06 2.06-.94-2.06-.94L8.5 2.5l-.94 2.06-2.06.94zm10 10l.94 2.06.94-2.06 2.06-.94-2.06-.94-.94-2.06-.94 2.06-2.06.94z\"/><path d=\"M17.41 7.96l-1.37-1.37c-.4-.4-.92-.59-1.43-.59-.52 0-1.04.2-1.43.59L10.3 9.45l-7.72 7.72c-.78.78-.78 2.05 0 2.83L4 21.41c.39.39.9.59 1.41.59.51 0 1.02-.2 1.41-.59l7.78-7.78 2.81-2.81c.8-.78.8-2.07 0-2.86zM5.41 20L4 18.59l7.72-7.72 1.47 1.35L5.41 20z\"/>\n",
              "  </svg>\n",
              "      </button>\n",
              "      \n",
              "  <style>\n",
              "    .colab-df-container {\n",
              "      display:flex;\n",
              "      flex-wrap:wrap;\n",
              "      gap: 12px;\n",
              "    }\n",
              "\n",
              "    .colab-df-convert {\n",
              "      background-color: #E8F0FE;\n",
              "      border: none;\n",
              "      border-radius: 50%;\n",
              "      cursor: pointer;\n",
              "      display: none;\n",
              "      fill: #1967D2;\n",
              "      height: 32px;\n",
              "      padding: 0 0 0 0;\n",
              "      width: 32px;\n",
              "    }\n",
              "\n",
              "    .colab-df-convert:hover {\n",
              "      background-color: #E2EBFA;\n",
              "      box-shadow: 0px 1px 2px rgba(60, 64, 67, 0.3), 0px 1px 3px 1px rgba(60, 64, 67, 0.15);\n",
              "      fill: #174EA6;\n",
              "    }\n",
              "\n",
              "    [theme=dark] .colab-df-convert {\n",
              "      background-color: #3B4455;\n",
              "      fill: #D2E3FC;\n",
              "    }\n",
              "\n",
              "    [theme=dark] .colab-df-convert:hover {\n",
              "      background-color: #434B5C;\n",
              "      box-shadow: 0px 1px 3px 1px rgba(0, 0, 0, 0.15);\n",
              "      filter: drop-shadow(0px 1px 2px rgba(0, 0, 0, 0.3));\n",
              "      fill: #FFFFFF;\n",
              "    }\n",
              "  </style>\n",
              "\n",
              "      <script>\n",
              "        const buttonEl =\n",
              "          document.querySelector('#df-8c9bc04c-20d7-494e-b8da-8099924e470a button.colab-df-convert');\n",
              "        buttonEl.style.display =\n",
              "          google.colab.kernel.accessAllowed ? 'block' : 'none';\n",
              "\n",
              "        async function convertToInteractive(key) {\n",
              "          const element = document.querySelector('#df-8c9bc04c-20d7-494e-b8da-8099924e470a');\n",
              "          const dataTable =\n",
              "            await google.colab.kernel.invokeFunction('convertToInteractive',\n",
              "                                                     [key], {});\n",
              "          if (!dataTable) return;\n",
              "\n",
              "          const docLinkHtml = 'Like what you see? Visit the ' +\n",
              "            '<a target=\"_blank\" href=https://colab.research.google.com/notebooks/data_table.ipynb>data table notebook</a>'\n",
              "            + ' to learn more about interactive tables.';\n",
              "          element.innerHTML = '';\n",
              "          dataTable['output_type'] = 'display_data';\n",
              "          await google.colab.output.renderOutput(dataTable, element);\n",
              "          const docLink = document.createElement('div');\n",
              "          docLink.innerHTML = docLinkHtml;\n",
              "          element.appendChild(docLink);\n",
              "        }\n",
              "      </script>\n",
              "    </div>\n",
              "  </div>\n",
              "  "
            ]
          },
          "metadata": {},
          "execution_count": 1
        }
      ],
      "source": [
        "import numpy as np\n",
        "import pandas as pd\n",
        "import tensorflow as tf\n",
        "import matplotlib.pyplot as plt\n",
        "\n",
        "\n",
        "dataset_url = ('https://raw.githubusercontent.com/dimasw09/BelajarKoding/main/Dataset1.csv')\n",
        "\n",
        "d = pd.read_csv(dataset_url)\n",
        "d.head(170)"
      ]
    },
    {
      "cell_type": "code",
      "execution_count": 2,
      "metadata": {
        "colab": {
          "base_uri": "https://localhost:8080/"
        },
        "id": "0YC4St97Y0H_",
        "outputId": "e66e92fa-d48e-40d1-8c92-f940b2af5e0b"
      },
      "outputs": [
        {
          "output_type": "execute_result",
          "data": {
            "text/plain": [
              "Index(['Tahun Masuk', 'IPK', 'SKS', 'Status Kelulusan'], dtype='object')"
            ]
          },
          "metadata": {},
          "execution_count": 2
        }
      ],
      "source": [
        "d.columns"
      ]
    },
    {
      "cell_type": "code",
      "execution_count": 3,
      "metadata": {
        "colab": {
          "base_uri": "https://localhost:8080/"
        },
        "id": "kzX_TNhTeIqo",
        "outputId": "4595867f-ae6a-4cad-dffa-f03d91bd24ff"
      },
      "outputs": [
        {
          "output_type": "stream",
          "name": "stdout",
          "text": [
            "(170, 3)\n"
          ]
        }
      ],
      "source": [
        "x=d.iloc[:,0:-1]\n",
        "y=d.iloc[:,2].values\n",
        "print(x.shape)"
      ]
    },
    {
      "cell_type": "code",
      "source": [
        "#Import Module\n",
        "from sklearn.model_selection import train_test_split\n",
        "\n",
        "\n",
        "train_X, test_X, train_y, test_y = train_test_split(x, y, \n",
        "                                                    train_size=0.7,\n",
        "                                                    test_size=0.3,\n",
        "                                                    random_state=122)"
      ],
      "metadata": {
        "id": "AV8fGibCnZcC"
      },
      "execution_count": 4,
      "outputs": []
    },
    {
      "cell_type": "code",
      "source": [
        "from sklearn.preprocessing import StandardScaler\n",
        "\n",
        "sc = StandardScaler()\n",
        "test_X = sc.fit_transform(test_X)\n",
        "test_y = sc.fit_transform(test_y.reshape(-1,1))\n",
        "# print(test_X)\n",
        "# print(test_y)"
      ],
      "metadata": {
        "id": "ZZmdA_OnD-Di"
      },
      "execution_count": 7,
      "outputs": []
    },
    {
      "cell_type": "code",
      "execution_count": 8,
      "metadata": {
        "colab": {
          "base_uri": "https://localhost:8080/"
        },
        "id": "_Qf8mlIfeP-5",
        "outputId": "12a186e2-ff61-43c0-eef3-c40b9311939b"
      },
      "outputs": [
        {
          "output_type": "stream",
          "name": "stdout",
          "text": [
            "Epoch 1/100\n",
            "2/2 [==============================] - 1s 6ms/step - loss: 0.8447\n",
            "Epoch 2/100\n",
            "2/2 [==============================] - 0s 9ms/step - loss: 0.8422\n",
            "Epoch 3/100\n",
            "2/2 [==============================] - 0s 5ms/step - loss: 0.8399\n",
            "Epoch 4/100\n",
            "2/2 [==============================] - 0s 7ms/step - loss: 0.8375\n",
            "Epoch 5/100\n",
            "2/2 [==============================] - 0s 4ms/step - loss: 0.8356\n",
            "Epoch 6/100\n",
            "2/2 [==============================] - 0s 8ms/step - loss: 0.8331\n",
            "Epoch 7/100\n",
            "2/2 [==============================] - 0s 11ms/step - loss: 0.8308\n",
            "Epoch 8/100\n",
            "2/2 [==============================] - 0s 7ms/step - loss: 0.8288\n",
            "Epoch 9/100\n",
            "2/2 [==============================] - 0s 6ms/step - loss: 0.8266\n",
            "Epoch 10/100\n",
            "2/2 [==============================] - 0s 6ms/step - loss: 0.8245\n",
            "Epoch 11/100\n",
            "2/2 [==============================] - 0s 6ms/step - loss: 0.8225\n",
            "Epoch 12/100\n",
            "2/2 [==============================] - 0s 7ms/step - loss: 0.8204\n",
            "Epoch 13/100\n",
            "2/2 [==============================] - 0s 8ms/step - loss: 0.8184\n",
            "Epoch 14/100\n",
            "2/2 [==============================] - 0s 5ms/step - loss: 0.8164\n",
            "Epoch 15/100\n",
            "2/2 [==============================] - 0s 5ms/step - loss: 0.8143\n",
            "Epoch 16/100\n",
            "2/2 [==============================] - 0s 7ms/step - loss: 0.8125\n",
            "Epoch 17/100\n",
            "2/2 [==============================] - 0s 6ms/step - loss: 0.8105\n",
            "Epoch 18/100\n",
            "2/2 [==============================] - 0s 5ms/step - loss: 0.8086\n",
            "Epoch 19/100\n",
            "2/2 [==============================] - 0s 5ms/step - loss: 0.8067\n",
            "Epoch 20/100\n",
            "2/2 [==============================] - 0s 6ms/step - loss: 0.8047\n",
            "Epoch 21/100\n",
            "2/2 [==============================] - 0s 5ms/step - loss: 0.8030\n",
            "Epoch 22/100\n",
            "2/2 [==============================] - 0s 7ms/step - loss: 0.8011\n",
            "Epoch 23/100\n",
            "2/2 [==============================] - 0s 5ms/step - loss: 0.7994\n",
            "Epoch 24/100\n",
            "2/2 [==============================] - 0s 6ms/step - loss: 0.7975\n",
            "Epoch 25/100\n",
            "2/2 [==============================] - 0s 8ms/step - loss: 0.7956\n",
            "Epoch 26/100\n",
            "2/2 [==============================] - 0s 7ms/step - loss: 0.7941\n",
            "Epoch 27/100\n",
            "2/2 [==============================] - 0s 5ms/step - loss: 0.7926\n",
            "Epoch 28/100\n",
            "2/2 [==============================] - 0s 5ms/step - loss: 0.7913\n",
            "Epoch 29/100\n",
            "2/2 [==============================] - 0s 5ms/step - loss: 0.7899\n",
            "Epoch 30/100\n",
            "2/2 [==============================] - 0s 6ms/step - loss: 0.7889\n",
            "Epoch 31/100\n",
            "2/2 [==============================] - 0s 5ms/step - loss: 0.7876\n",
            "Epoch 32/100\n",
            "2/2 [==============================] - 0s 7ms/step - loss: 0.7864\n",
            "Epoch 33/100\n",
            "2/2 [==============================] - 0s 8ms/step - loss: 0.7853\n",
            "Epoch 34/100\n",
            "2/2 [==============================] - 0s 6ms/step - loss: 0.7841\n",
            "Epoch 35/100\n",
            "2/2 [==============================] - 0s 6ms/step - loss: 0.7829\n",
            "Epoch 36/100\n",
            "2/2 [==============================] - 0s 6ms/step - loss: 0.7818\n",
            "Epoch 37/100\n",
            "2/2 [==============================] - 0s 5ms/step - loss: 0.7806\n",
            "Epoch 38/100\n",
            "2/2 [==============================] - 0s 6ms/step - loss: 0.7795\n",
            "Epoch 39/100\n",
            "2/2 [==============================] - 0s 10ms/step - loss: 0.7784\n",
            "Epoch 40/100\n",
            "2/2 [==============================] - 0s 7ms/step - loss: 0.7772\n",
            "Epoch 41/100\n",
            "2/2 [==============================] - 0s 6ms/step - loss: 0.7762\n",
            "Epoch 42/100\n",
            "2/2 [==============================] - 0s 9ms/step - loss: 0.7751\n",
            "Epoch 43/100\n",
            "2/2 [==============================] - 0s 12ms/step - loss: 0.7741\n",
            "Epoch 44/100\n",
            "2/2 [==============================] - 0s 6ms/step - loss: 0.7729\n",
            "Epoch 45/100\n",
            "2/2 [==============================] - 0s 7ms/step - loss: 0.7719\n",
            "Epoch 46/100\n",
            "2/2 [==============================] - 0s 6ms/step - loss: 0.7709\n",
            "Epoch 47/100\n",
            "2/2 [==============================] - 0s 4ms/step - loss: 0.7698\n",
            "Epoch 48/100\n",
            "2/2 [==============================] - 0s 25ms/step - loss: 0.7689\n",
            "Epoch 49/100\n",
            "2/2 [==============================] - 0s 7ms/step - loss: 0.7678\n",
            "Epoch 50/100\n",
            "2/2 [==============================] - 0s 7ms/step - loss: 0.7667\n",
            "Epoch 51/100\n",
            "2/2 [==============================] - 0s 6ms/step - loss: 0.7658\n",
            "Epoch 52/100\n",
            "2/2 [==============================] - 0s 5ms/step - loss: 0.7647\n",
            "Epoch 53/100\n",
            "2/2 [==============================] - 0s 6ms/step - loss: 0.7636\n",
            "Epoch 54/100\n",
            "2/2 [==============================] - 0s 7ms/step - loss: 0.7627\n",
            "Epoch 55/100\n",
            "2/2 [==============================] - 0s 6ms/step - loss: 0.7616\n",
            "Epoch 56/100\n",
            "2/2 [==============================] - 0s 18ms/step - loss: 0.7604\n",
            "Epoch 57/100\n",
            "2/2 [==============================] - 0s 7ms/step - loss: 0.7594\n",
            "Epoch 58/100\n",
            "2/2 [==============================] - 0s 6ms/step - loss: 0.7583\n",
            "Epoch 59/100\n",
            "2/2 [==============================] - 0s 9ms/step - loss: 0.7572\n",
            "Epoch 60/100\n",
            "2/2 [==============================] - 0s 8ms/step - loss: 0.7561\n",
            "Epoch 61/100\n",
            "2/2 [==============================] - 0s 7ms/step - loss: 0.7550\n",
            "Epoch 62/100\n",
            "2/2 [==============================] - 0s 6ms/step - loss: 0.7539\n",
            "Epoch 63/100\n",
            "2/2 [==============================] - 0s 10ms/step - loss: 0.7528\n",
            "Epoch 64/100\n",
            "2/2 [==============================] - 0s 11ms/step - loss: 0.7516\n",
            "Epoch 65/100\n",
            "2/2 [==============================] - 0s 5ms/step - loss: 0.7504\n",
            "Epoch 66/100\n",
            "2/2 [==============================] - 0s 6ms/step - loss: 0.7493\n",
            "Epoch 67/100\n",
            "2/2 [==============================] - 0s 6ms/step - loss: 0.7481\n",
            "Epoch 68/100\n",
            "2/2 [==============================] - 0s 4ms/step - loss: 0.7469\n",
            "Epoch 69/100\n",
            "2/2 [==============================] - 0s 4ms/step - loss: 0.7457\n",
            "Epoch 70/100\n",
            "2/2 [==============================] - 0s 5ms/step - loss: 0.7445\n",
            "Epoch 71/100\n",
            "2/2 [==============================] - 0s 5ms/step - loss: 0.7433\n",
            "Epoch 72/100\n",
            "2/2 [==============================] - 0s 4ms/step - loss: 0.7421\n",
            "Epoch 73/100\n",
            "2/2 [==============================] - 0s 5ms/step - loss: 0.7409\n",
            "Epoch 74/100\n",
            "2/2 [==============================] - 0s 5ms/step - loss: 0.7395\n",
            "Epoch 75/100\n",
            "2/2 [==============================] - 0s 7ms/step - loss: 0.7384\n",
            "Epoch 76/100\n",
            "2/2 [==============================] - 0s 5ms/step - loss: 0.7371\n",
            "Epoch 77/100\n",
            "2/2 [==============================] - 0s 9ms/step - loss: 0.7358\n",
            "Epoch 78/100\n",
            "2/2 [==============================] - 0s 5ms/step - loss: 0.7344\n",
            "Epoch 79/100\n",
            "2/2 [==============================] - 0s 7ms/step - loss: 0.7331\n",
            "Epoch 80/100\n",
            "2/2 [==============================] - 0s 11ms/step - loss: 0.7318\n",
            "Epoch 81/100\n",
            "2/2 [==============================] - 0s 5ms/step - loss: 0.7305\n",
            "Epoch 82/100\n",
            "2/2 [==============================] - 0s 4ms/step - loss: 0.7293\n",
            "Epoch 83/100\n",
            "2/2 [==============================] - 0s 5ms/step - loss: 0.7279\n",
            "Epoch 84/100\n",
            "2/2 [==============================] - 0s 4ms/step - loss: 0.7266\n",
            "Epoch 85/100\n",
            "2/2 [==============================] - 0s 5ms/step - loss: 0.7253\n",
            "Epoch 86/100\n",
            "2/2 [==============================] - 0s 4ms/step - loss: 0.7239\n",
            "Epoch 87/100\n",
            "2/2 [==============================] - 0s 5ms/step - loss: 0.7225\n",
            "Epoch 88/100\n",
            "2/2 [==============================] - 0s 11ms/step - loss: 0.7212\n",
            "Epoch 89/100\n",
            "2/2 [==============================] - 0s 5ms/step - loss: 0.7198\n",
            "Epoch 90/100\n",
            "2/2 [==============================] - 0s 7ms/step - loss: 0.7184\n",
            "Epoch 91/100\n",
            "2/2 [==============================] - 0s 13ms/step - loss: 0.7170\n",
            "Epoch 92/100\n",
            "2/2 [==============================] - 0s 5ms/step - loss: 0.7156\n",
            "Epoch 93/100\n",
            "2/2 [==============================] - 0s 4ms/step - loss: 0.7141\n",
            "Epoch 94/100\n",
            "2/2 [==============================] - 0s 4ms/step - loss: 0.7127\n",
            "Epoch 95/100\n",
            "2/2 [==============================] - 0s 5ms/step - loss: 0.7112\n",
            "Epoch 96/100\n",
            "2/2 [==============================] - 0s 7ms/step - loss: 0.7097\n",
            "Epoch 97/100\n",
            "2/2 [==============================] - 0s 6ms/step - loss: 0.7082\n",
            "Epoch 98/100\n",
            "2/2 [==============================] - 0s 5ms/step - loss: 0.7068\n",
            "Epoch 99/100\n",
            "2/2 [==============================] - 0s 5ms/step - loss: 0.7052\n",
            "Epoch 100/100\n",
            "2/2 [==============================] - 0s 5ms/step - loss: 0.7036\n"
          ]
        },
        {
          "output_type": "execute_result",
          "data": {
            "text/plain": [
              "<keras.callbacks.History at 0x7f69d2874100>"
            ]
          },
          "metadata": {},
          "execution_count": 8
        }
      ],
      "source": [
        "model = tf.keras.models.Sequential()\n",
        "model.add(tf.keras.layers.Dense(units=5,activation='relu'))\n",
        "model.add(tf.keras.layers.Dense(units=4,activation='relu'))\n",
        "model.add(tf.keras.layers.Dense(units=1,activation='sigmoid'))\n",
        "\n",
        "model.compile(loss='mean_absolute_error', optimizer=tf.keras.optimizers.Adam(0.001))\n",
        "model.fit(test_X,test_y.reshape(-1,1),epochs=100,batch_size=30)\n",
        "\n",
        "# model.summary()"
      ]
    },
    {
      "cell_type": "code",
      "execution_count": 9,
      "metadata": {
        "colab": {
          "base_uri": "https://localhost:8080/"
        },
        "id": "caHiKNn2NlxY",
        "outputId": "fc913752-0a08-4eac-ea64-d005fe268c6a"
      },
      "outputs": [
        {
          "output_type": "stream",
          "name": "stdout",
          "text": [
            "2/2 [==============================] - 0s 5ms/step\n"
          ]
        }
      ],
      "source": [
        "ypredict=model.predict(test_X)\n",
        "# print(ypredict)"
      ]
    },
    {
      "cell_type": "code",
      "source": [
        "from sklearn.metrics import mean_absolute_error\n",
        "mae=mean_absolute_error(ypredict,test_y)\n",
        "print(mae)"
      ],
      "metadata": {
        "id": "Yz2RAMdZrLMk",
        "outputId": "90a29e73-50f7-4ab3-a457-f8ddbad2c438",
        "colab": {
          "base_uri": "https://localhost:8080/"
        }
      },
      "execution_count": 10,
      "outputs": [
        {
          "output_type": "stream",
          "name": "stdout",
          "text": [
            "0.7023990220686435\n"
          ]
        }
      ]
    },
    {
      "cell_type": "code",
      "source": [
        "a=range(len(test_X))\n",
        "plt.scatter(a,test_y, color='red')\n",
        "plt.plot(a,ypredict, color='blue')\n",
        "plt.title('Prediksi kelulusan mahasiswa')\n",
        "plt.xlabel('Data variable x')\n",
        "plt.ylabel('Data variable y')\n",
        "# plt.plot(x,ypredict)\n",
        "plt.figure()"
      ],
      "metadata": {
        "id": "k8E1q6zuz3v1",
        "outputId": "45c86ef2-1465-4dbd-a713-2a36756df212",
        "colab": {
          "base_uri": "https://localhost:8080/",
          "height": 332
        }
      },
      "execution_count": 11,
      "outputs": [
        {
          "output_type": "execute_result",
          "data": {
            "text/plain": [
              "<Figure size 432x288 with 0 Axes>"
            ]
          },
          "metadata": {},
          "execution_count": 11
        },
        {
          "output_type": "display_data",
          "data": {
            "text/plain": [
              "<Figure size 432x288 with 1 Axes>"
            ],
            "image/png": "[encoded data removed]"
          },
          "metadata": {
            "needs_background": "light"
          }
        },
        {
          "output_type": "display_data",
          "data": {
            "text/plain": [
              "<Figure size 432x288 with 0 Axes>"
            ]
          },
          "metadata": {}
        }
      ]
    }
  ],
  "metadata": {
    "colab": {
      "provenance": [],
      "include_colab_link": true
    },
    "kernelspec": {
      "display_name": "Python 3",
      "name": "python3"
    },
    "language_info": {
      "name": "python"
    }
  },
  "nbformat": 4,
  "nbformat_minor": 0
}