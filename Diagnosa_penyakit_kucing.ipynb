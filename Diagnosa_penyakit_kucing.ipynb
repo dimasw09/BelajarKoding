{
  "nbformat": 4,
  "nbformat_minor": 0,
  "metadata": {
    "colab": {
      "provenance": [],
      "authorship_tag": "ABX9TyOKkf7/IkDwiZbYmPr/26mP",
      "include_colab_link": true
    },
    "kernelspec": {
      "name": "python3",
      "display_name": "Python 3"
    },
    "language_info": {
      "name": "python"
    }
  },
  "cells": [
    {
      "cell_type": "markdown",
      "metadata": {
        "id": "view-in-github",
        "colab_type": "text"
      },
      "source": [
        "<a href=\"https://colab.research.google.com/github/dimasw09/BelajarKoding/blob/main/Diagnosa_penyakit_kucing.ipynb\" target=\"_parent\"><img src=\"https://colab.research.google.com/assets/colab-badge.svg\" alt=\"Open In Colab\"/></a>"
      ]
    },
    {
      "cell_type": "code",
      "execution_count": 6,
      "metadata": {
        "colab": {
          "base_uri": "https://localhost:8080/"
        },
        "id": "MII7hxqLbaam",
        "outputId": "1c290898-a173-4bf7-ef56-e9356f6dc47d"
      },
      "outputs": [
        {
          "output_type": "stream",
          "name": "stdout",
          "text": [
            "Sistem Pakar Diagnosa Penyakit pada Kucing\n",
            "=========================================\n",
            "Masukkan gejala yang dialami kucing\n",
            "Ketik 'selesai' jika selesai\n",
            "=========================================\n",
            "Masukkan gejala yang dialami kucing (selesai jika selesai):\n",
            "Gejala: demam\n",
            "Gejala: diare\n",
            "Gejala: bersin\n",
            "Gejala: batuk\n",
            "Gejala: selesai\n",
            "Tidak ditemukan diagnosis yang cocok\n"
          ]
        }
      ],
      "source": [
        "# Import library yang diperlukan\n",
        "from collections import defaultdict\n",
        "\n",
        "# Definisikan aturan-aturan berbasis pengetahuan\n",
        "rules = {\n",
        "    ('muntah', 'diare', 'nafsu makan berkurang'): 'Gastroenteritis',\n",
        "    ('batuk', 'bersin', 'hidung berair'): 'Infeksi Saluran Pernapasan',\n",
        "    ('kelemahan', 'berat badan turun', 'gangguan buang air kecil'): 'Gagal Ginjal',\n",
        "    # Definisikan aturan lainnya...\n",
        "}\n",
        "\n",
        "# Fungsi untuk mengevaluasi gejala dan menghasilkan diagnosis\n",
        "def evaluate_symptoms(symptoms):\n",
        "    diagnosis = set()\n",
        "    for symptom_set, disease in rules.items():\n",
        "        if set(symptom_set).issubset(symptoms):\n",
        "            diagnosis.add(disease)\n",
        "    return diagnosis\n",
        "\n",
        "# Fungsi untuk menerima input gejala dari pengguna\n",
        "def get_user_input():\n",
        "    symptoms = set()\n",
        "    print(\"Masukkan gejala yang dialami kucing (selesai jika selesai):\")\n",
        "    while True:\n",
        "        symptom = input(\"Gejala: \")\n",
        "        if symptom == \"selesai\":\n",
        "            break\n",
        "        symptoms.add(symptom)\n",
        "    return symptoms\n",
        "\n",
        "# Main program\n",
        "def main():\n",
        "    print(\"Sistem Pakar Diagnosa Penyakit pada Kucing\")\n",
        "    print(\"=========================================\")\n",
        "    print(\"Masukkan gejala yang dialami kucing\")\n",
        "    print(\"Ketik 'selesai' jika selesai\")\n",
        "    print(\"=========================================\")\n",
        "\n",
        "    symptoms = get_user_input()\n",
        "    diagnosis = evaluate_symptoms(symptoms)\n",
        "\n",
        "    if diagnosis:\n",
        "        print(\"Diagnosis yang mungkin:\")\n",
        "        for d in diagnosis:\n",
        "            print(\"- \" + d)\n",
        "    else:\n",
        "        print(\"Tidak ditemukan diagnosis yang cocok\")\n",
        "\n",
        "if __name__ == \"__main__\":\n",
        "    main()"
      ]
    }
  ]
}