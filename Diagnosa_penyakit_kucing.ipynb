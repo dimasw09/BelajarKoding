{
  "nbformat": 4,
  "nbformat_minor": 0,
  "metadata": {
    "colab": {
      "provenance": [],
      "authorship_tag": "ABX9TyNEk/3hYg7sq9h7iNFeOlWD",
      "include_colab_link": true
    },
    "kernelspec": {
      "name": "python3",
      "display_name": "Python 3"
    },
    "language_info": {
      "name": "python"
    }
  },
  "cells": [
    {
      "cell_type": "markdown",
      "metadata": {
        "id": "view-in-github",
        "colab_type": "text"
      },
      "source": [
        "<a href=\"https://colab.research.google.com/github/dimasw09/BelajarKoding/blob/main/Diagnosa_penyakit_kucing.ipynb\" target=\"_parent\"><img src=\"https://colab.research.google.com/assets/colab-badge.svg\" alt=\"Open In Colab\"/></a>"
      ]
    },
    {
      "cell_type": "code",
      "execution_count": 7,
      "metadata": {
        "colab": {
          "base_uri": "https://localhost:8080/"
        },
        "id": "MII7hxqLbaam",
        "outputId": "c3c4e36d-1988-4492-ced0-e1e6d9643d8d"
      },
      "outputs": [
        {
          "output_type": "stream",
          "name": "stdout",
          "text": [
            "Gejala yang muncul pada kucing:  ['Keputihan pada betina', 'Sakit tulang', 'Nafsu makan berkurang', 'Kencing tidak teratur']\n",
            "Diagnosis penyakit pada kucing:  Penyakit tidak diketahui\n"
          ]
        }
      ],
      "source": [
        "import random\n",
        "\n",
        "# Dataset gejala penyakit pada kucing\n",
        "dataset = [\n",
        "    ('Demam', 'Batuk', 'Bersin', 'Hidung berair', 'Mata merah', 'Mata berair', 'Bengkak pada mata',\n",
        "     'Mata mengeluarkan nanah', 'Diare', 'Muntah', 'Nafsu makan berkurang', 'Berat badan turun',\n",
        "     'Dehidrasi', 'Lemah', 'Lesu', 'Sering menjilat diri', 'Rambut rontok', 'Kulit gatal',\n",
        "     'Luka pada kulit', 'Bintik-bintik merah pada kulit', 'Perubahan perilaku', 'Kejang',\n",
        "     'Gangguan buang air kecil', 'Kencing berdarah', 'Kencing jarang', 'Kencing tidak teratur',\n",
        "     'Sulit buang air besar', 'Buang air besar berdarah', 'Pembengkakan pada tubuh', 'Sakit perut',\n",
        "     'Sakit punggung', 'Sakit tulang', 'Sering menjilat genital', 'Keputihan pada betina',\n",
        "     'Telinga berair', 'Telinga gatal', 'Telinga berbau', 'Napas cepat', 'Sesak napas',\n",
        "     'Batuk berdahak', 'Bintik-bintik putih pada kotoran', 'Mencium bau busuk dari mulut',\n",
        "     'Gigi tanggal', 'Nyeri saat makan', 'Bengkak pada gusi', 'Gusi berdarah', 'Gigi berlubang',\n",
        "     'Keringat berlebihan', 'Jantung berdebar', 'Merasa lesu dan tidak aktif')\n",
        "]\n",
        "\n",
        "# Definisikan aturan diagnosa\n",
        "rules = {\n",
        "    ('Muntah', 'Diare', 'Nafsu makan berkurang'): 'Gastroenteritis',\n",
        "    ('Batuk', 'Bersin', 'Hidung berair'): 'Infeksi Saluran Pernapasan',\n",
        "    ('Kelemahan', 'Berat badan turun', 'Gangguan buang air kecil'): 'Gagal Ginjal',\n",
        "    # Definisikan aturan lainnya...\n",
        "}\n",
        "\n",
        "# Fungsi untuk melakukan diagnosa\n",
        "def diagnose(symptoms):\n",
        "    for rule in rules:\n",
        "        if set(symptoms).issubset(set(rule)):\n",
        "            return rules[rule]\n",
        "    return \"Penyakit tidak diketahui\"\n",
        "\n",
        "# Contoh penggunaan\n",
        "random_symptoms = random.sample(dataset[0], random.randint(1, 5))\n",
        "print(\"Gejala yang muncul pada kucing: \", random_symptoms)\n",
        "diagnosis = diagnose(random_symptoms)\n",
        "print(\"Diagnosis penyakit pada kucing: \", diagnosis)\n"
      ]
    }
  ]
}