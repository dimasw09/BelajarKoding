{
  "nbformat": 4,
  "nbformat_minor": 0,
  "metadata": {
    "colab": {
      "provenance": [],
      "authorship_tag": "ABX9TyOJ3aS8GPM/cYF4kFNVhqOv",
      "include_colab_link": true
    },
    "kernelspec": {
      "name": "python3",
      "display_name": "Python 3"
    },
    "language_info": {
      "name": "python"
    }
  },
  "cells": [
    {
      "cell_type": "markdown",
      "metadata": {
        "id": "view-in-github",
        "colab_type": "text"
      },
      "source": [
        "<a href=\"https://colab.research.google.com/github/dimasw09/BelajarKoding/blob/main/Analisis_Performa_Model_Regresi_Linier_untuk_Prediksi_Harga_Rumah_di_Boston.ipynb\" target=\"_parent\"><img src=\"https://colab.research.google.com/assets/colab-badge.svg\" alt=\"Open In Colab\"/></a>"
      ]
    },
    {
      "cell_type": "code",
      "execution_count": 7,
      "metadata": {
        "colab": {
          "base_uri": "https://localhost:8080/"
        },
        "id": "AzArLHmSXhP3",
        "outputId": "d2988414-a243-4e90-b8df-0a3b291691e7"
      },
      "outputs": [
        {
          "output_type": "stream",
          "name": "stdout",
          "text": [
            "Mean Squared Error: 24.29\n",
            "Prediksi Harga Rumah untuk 5 Tahun ke Depan:\n",
            "Tahun 2023: Harga perkiraan rumah = -25532.34\n",
            "Tahun 2024: Harga perkiraan rumah = -25544.98\n",
            "Tahun 2025: Harga perkiraan rumah = -25557.61\n",
            "Tahun 2026: Harga perkiraan rumah = -25570.25\n",
            "Tahun 2027: Harga perkiraan rumah = -25582.88\n"
          ]
        },
        {
          "output_type": "stream",
          "name": "stderr",
          "text": [
            "/usr/local/lib/python3.10/dist-packages/sklearn/base.py:439: UserWarning: X does not have valid feature names, but LinearRegression was fitted with feature names\n",
            "  warnings.warn(\n",
            "/usr/local/lib/python3.10/dist-packages/sklearn/base.py:439: UserWarning: X does not have valid feature names, but LinearRegression was fitted with feature names\n",
            "  warnings.warn(\n",
            "/usr/local/lib/python3.10/dist-packages/sklearn/base.py:439: UserWarning: X does not have valid feature names, but LinearRegression was fitted with feature names\n",
            "  warnings.warn(\n",
            "/usr/local/lib/python3.10/dist-packages/sklearn/base.py:439: UserWarning: X does not have valid feature names, but LinearRegression was fitted with feature names\n",
            "  warnings.warn(\n",
            "/usr/local/lib/python3.10/dist-packages/sklearn/base.py:439: UserWarning: X does not have valid feature names, but LinearRegression was fitted with feature names\n",
            "  warnings.warn(\n"
          ]
        }
      ],
      "source": [
        "import numpy as np\n",
        "import pandas as pd\n",
        "from sklearn.linear_model import LinearRegression\n",
        "from sklearn.model_selection import train_test_split\n",
        "from sklearn.metrics import mean_squared_error\n",
        "import requests\n",
        "from io import StringIO\n",
        "\n",
        "# Memuat dataset Boston Housing dari URL CSV\n",
        "url = 'https://raw.githubusercontent.com/selva86/datasets/master/BostonHousing.csv'\n",
        "response = requests.get(url)\n",
        "data = pd.read_csv(StringIO(response.text))\n",
        "\n",
        "# Membagi data menjadi fitur (X) dan target (y)\n",
        "X = data.drop('medv', axis=1)\n",
        "y = data['medv']\n",
        "\n",
        "# Membagi data menjadi data latih dan data uji\n",
        "X_train, X_test, y_train, y_test = train_test_split(X, y, test_size=0.2, random_state=42)\n",
        "\n",
        "# Membuat model regresi linier\n",
        "model = LinearRegression()\n",
        "model.fit(X_train, y_train)\n",
        "\n",
        "# Membuat prediksi untuk data uji\n",
        "y_pred = model.predict(X_test)\n",
        "\n",
        "# Menghitung nilai MSE (Mean Squared Error)\n",
        "mse = mean_squared_error(y_test, y_pred)\n",
        "print(f\"Mean Squared Error: {mse:.2f}\")\n",
        "\n",
        "# Menampilkan hasil prediksi\n",
        "print(\"Prediksi Harga Rumah untuk 5 Tahun ke Depan:\")\n",
        "for year in range(2023, 2028):\n",
        "    future_data = np.array([year] * X.shape[1]).reshape(1, -1)\n",
        "    predicted_price = model.predict(future_data)\n",
        "    print(f\"Tahun {year}: Harga perkiraan rumah = {predicted_price[0]:.2f}\")\n"
      ]
    }
  ]
}