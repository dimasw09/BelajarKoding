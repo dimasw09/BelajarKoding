{
  "cells": [
    {
      "cell_type": "markdown",
      "metadata": {
        "id": "view-in-github",
        "colab_type": "text"
      },
      "source": [
        "<a href=\"https://colab.research.google.com/github/dimasw09/BelajarKoding/blob/main/PrediksiKelulusan3.ipynb\" target=\"_parent\"><img src=\"https://colab.research.google.com/assets/colab-badge.svg\" alt=\"Open In Colab\"/></a>"
      ]
    },
    {
      "cell_type": "code",
      "execution_count": 47,
      "metadata": {
        "colab": {
          "base_uri": "https://localhost:8080/",
          "height": 296
        },
        "id": "gArDDLSXdvvf",
        "outputId": "462c81c4-7fd1-451e-a248-4457d497a300"
      },
      "outputs": [
        {
          "output_type": "execute_result",
          "data": {
            "text/plain": [
              "<matplotlib.axes._subplots.AxesSubplot at 0x7f6191383070>"
            ]
          },
          "metadata": {},
          "execution_count": 47
        },
        {
          "output_type": "display_data",
          "data": {
            "text/plain": [
              "<Figure size 432x288 with 1 Axes>"
            ],
            "image/png": "[encoded data removed]"
          },
          "metadata": {
            "needs_background": "light"
          }
        }
      ],
      "source": [
        "import numpy as np\n",
        "import pandas as pd\n",
        "import tensorflow as tf\n",
        "import matplotlib.pyplot as plt\n",
        "import seaborn as sns\n",
        "\n",
        "\n",
        "dataset_url = ('https://raw.githubusercontent.com/dimasw09/BelajarKoding/main/Dataset1.csv')\n",
        "\n",
        "d = pd.read_csv(dataset_url)\n",
        "# d.head(170)\n",
        "sns.scatterplot(x=d['IPK'],y=d['Status Kelulusan'])"
      ]
    },
    {
      "cell_type": "code",
      "execution_count": 48,
      "metadata": {
        "colab": {
          "base_uri": "https://localhost:8080/"
        },
        "id": "0YC4St97Y0H_",
        "outputId": "b02bbd6a-3b51-4fc3-f702-625176121dad"
      },
      "outputs": [
        {
          "output_type": "execute_result",
          "data": {
            "text/plain": [
              "Index(['Tahun Masuk', 'IPK', 'SKS', 'Status Kelulusan'], dtype='object')"
            ]
          },
          "metadata": {},
          "execution_count": 48
        }
      ],
      "source": [
        "d.columns"
      ]
    },
    {
      "cell_type": "code",
      "execution_count": 49,
      "metadata": {
        "id": "kzX_TNhTeIqo"
      },
      "outputs": [],
      "source": [
        "x=d.iloc[:,0:-1]\n",
        "y=d.iloc[:,2].values"
      ]
    },
    {
      "cell_type": "code",
      "source": [
        "#Import Module\n",
        "from sklearn.model_selection import train_test_split\n",
        "\n",
        "\n",
        "train_X, test_X, train_y, test_y = train_test_split(x, y, \n",
        "                                                    train_size=0.7,\n",
        "                                                    test_size=0.3,\n",
        "                                                    random_state=122)"
      ],
      "metadata": {
        "id": "AV8fGibCnZcC"
      },
      "execution_count": 50,
      "outputs": []
    },
    {
      "cell_type": "code",
      "source": [
        "from sklearn.preprocessing import StandardScaler\n",
        "\n",
        "sc = StandardScaler()\n",
        "test_X = sc.fit_transform(test_X)\n",
        "test_y = sc.fit_transform(test_y.reshape(-1,1))\n",
        "# print(test_X)\n",
        "# print(test_y)"
      ],
      "metadata": {
        "id": "ZZmdA_OnD-Di"
      },
      "execution_count": 51,
      "outputs": []
    },
    {
      "cell_type": "code",
      "execution_count": 52,
      "metadata": {
        "colab": {
          "base_uri": "https://localhost:8080/"
        },
        "id": "_Qf8mlIfeP-5",
        "outputId": "c312d617-de12-4c41-a8b8-66e5d3bf1b3d"
      },
      "outputs": [
        {
          "output_type": "stream",
          "name": "stdout",
          "text": [
            "Epoch 1/10\n",
            "2/2 [==============================] - 0s 7ms/step - loss: 0.8224\n",
            "Epoch 2/10\n",
            "2/2 [==============================] - 0s 9ms/step - loss: 0.8209\n",
            "Epoch 3/10\n",
            "2/2 [==============================] - 0s 8ms/step - loss: 0.8194\n",
            "Epoch 4/10\n",
            "2/2 [==============================] - 0s 9ms/step - loss: 0.8180\n",
            "Epoch 5/10\n",
            "2/2 [==============================] - 0s 9ms/step - loss: 0.8165\n",
            "Epoch 6/10\n",
            "2/2 [==============================] - 0s 6ms/step - loss: 0.8150\n",
            "Epoch 7/10\n",
            "2/2 [==============================] - 0s 7ms/step - loss: 0.8137\n",
            "Epoch 8/10\n",
            "2/2 [==============================] - 0s 5ms/step - loss: 0.8122\n",
            "Epoch 9/10\n",
            "2/2 [==============================] - 0s 13ms/step - loss: 0.8108\n",
            "Epoch 10/10\n",
            "2/2 [==============================] - 0s 6ms/step - loss: 0.8096\n",
            "Model: \"sequential_9\"\n",
            "_________________________________________________________________\n",
            " Layer (type)                Output Shape              Param #   \n",
            "=================================================================\n",
            " dense_32 (Dense)            (None, 5)                 20        \n",
            "                                                                 \n",
            " dense_33 (Dense)            (None, 4)                 24        \n",
            "                                                                 \n",
            " dense_34 (Dense)            (None, 1)                 5         \n",
            "                                                                 \n",
            "=================================================================\n",
            "Total params: 49\n",
            "Trainable params: 49\n",
            "Non-trainable params: 0\n",
            "_________________________________________________________________\n"
          ]
        }
      ],
      "source": [
        "model = tf.keras.models.Sequential()\n",
        "model.add(tf.keras.layers.Dense(units=5,activation='relu'))\n",
        "model.add(tf.keras.layers.Dense(units=4,activation='relu'))\n",
        "model.add(tf.keras.layers.Dense(units=1,activation='sigmoid'))\n",
        "\n",
        "model.compile(loss='mean_absolute_error', optimizer=tf.keras.optimizers.Adam(0.001))\n",
        "model.fit(test_X,test_y.reshape(-1,1),epochs=10,batch_size=30)\n",
        "\n",
        "model.summary()"
      ]
    },
    {
      "cell_type": "code",
      "execution_count": 53,
      "metadata": {
        "colab": {
          "base_uri": "https://localhost:8080/"
        },
        "id": "caHiKNn2NlxY",
        "outputId": "92160f87-65ff-4f92-c77b-833325c75e7c"
      },
      "outputs": [
        {
          "output_type": "stream",
          "name": "stdout",
          "text": [
            "2/2 [==============================] - 0s 6ms/step\n"
          ]
        }
      ],
      "source": [
        "ypredict=model.predict(test_X)\n"
      ]
    },
    {
      "cell_type": "code",
      "source": [
        "from sklearn.metrics import mean_absolute_error\n",
        "accuracy=mean_absolute_error(ypredict,test_y)\n",
        "print(accuracy)"
      ],
      "metadata": {
        "id": "Yz2RAMdZrLMk",
        "outputId": "5350d0ff-a9ca-4a4c-8c72-cdce68c248f9",
        "colab": {
          "base_uri": "https://localhost:8080/"
        }
      },
      "execution_count": 54,
      "outputs": [
        {
          "output_type": "stream",
          "name": "stdout",
          "text": [
            "0.8086248270965803\n"
          ]
        }
      ]
    },
    {
      "cell_type": "code",
      "source": [
        "a=range(len(test_X))\n",
        "plt.scatter(a,test_y, color='red')\n",
        "plt.plot(a,ypredict, color='blue')\n",
        "plt.title('Prediksi kelulusan mahasiswa')\n",
        "# plt.plot(x,ypredict)\n",
        "plt.figure()"
      ],
      "metadata": {
        "id": "k8E1q6zuz3v1",
        "outputId": "1d5379a6-8333-41e3-fd28-159b1a1f14da",
        "colab": {
          "base_uri": "https://localhost:8080/",
          "height": 316
        }
      },
      "execution_count": 55,
      "outputs": [
        {
          "output_type": "execute_result",
          "data": {
            "text/plain": [
              "<Figure size 432x288 with 0 Axes>"
            ]
          },
          "metadata": {},
          "execution_count": 55
        },
        {
          "output_type": "display_data",
          "data": {
            "text/plain": [
              "<Figure size 432x288 with 1 Axes>"
            ],
            "image/png": "[encoded data removed]"
          },
          "metadata": {
            "needs_background": "light"
          }
        },
        {
          "output_type": "display_data",
          "data": {
            "text/plain": [
              "<Figure size 432x288 with 0 Axes>"
            ]
          },
          "metadata": {}
        }
      ]
    },
    {
      "cell_type": "code",
      "source": [
        "plt.plot(a,ypredict)\n",
        "\n",
        "plt.title('Prediksi kelulusan mahasiswa')\n",
        "plt.grid(True)\n",
        "\n",
        "plt.show()"
      ],
      "metadata": {
        "id": "AbTU4G63i8_Z",
        "outputId": "0fc0f4c1-5d20-4f44-a719-8d75e9caa273",
        "colab": {
          "base_uri": "https://localhost:8080/",
          "height": 281
        }
      },
      "execution_count": 56,
      "outputs": [
        {
          "output_type": "display_data",
          "data": {
            "text/plain": [
              "<Figure size 432x288 with 1 Axes>"
            ],
            "image/png": "[encoded data removed]"
          },
          "metadata": {
            "needs_background": "light"
          }
        }
      ]
    }
  ],
  "metadata": {
    "colab": {
      "provenance": [],
      "include_colab_link": true
    },
    "kernelspec": {
      "display_name": "Python 3",
      "name": "python3"
    },
    "language_info": {
      "name": "python"
    }
  },
  "nbformat": 4,
  "nbformat_minor": 0
}