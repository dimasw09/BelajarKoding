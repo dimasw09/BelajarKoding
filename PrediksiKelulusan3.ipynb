{
  "cells": [
    {
      "cell_type": "markdown",
      "metadata": {
        "id": "view-in-github",
        "colab_type": "text"
      },
      "source": [
        "<a href=\"https://colab.research.google.com/github/dimasw09/BelajarKoding/blob/main/PrediksiKelulusan3.ipynb\" target=\"_parent\"><img src=\"https://colab.research.google.com/assets/colab-badge.svg\" alt=\"Open In Colab\"/></a>"
      ]
    },
    {
      "cell_type": "code",
      "execution_count": 1,
      "metadata": {
        "colab": {
          "base_uri": "https://localhost:8080/",
          "height": 424
        },
        "id": "gArDDLSXdvvf",
        "outputId": "d7c63424-a582-4239-9404-ab69b68fae15"
      },
      "outputs": [
        {
          "output_type": "execute_result",
          "data": {
            "text/plain": [
              "     Tahun Masuk  IPK  SKS  Status Kelulusan\n",
              "0           2015    4  103                 1\n",
              "1           2015    3  103                 1\n",
              "2           2015    3   98                 0\n",
              "3           2015    3  101                 1\n",
              "4           2015    3  101                 0\n",
              "..           ...  ...  ...               ...\n",
              "165         2016    3    8                 1\n",
              "166         2016    3   72                 1\n",
              "167         2016    3  112                 1\n",
              "168         2017    3   84                 1\n",
              "169         2017    3   38                 1\n",
              "\n",
              "[170 rows x 4 columns]"
            ],
            "text/html": [
              "\n",
              "  <div id=\"df-b8740f18-5d58-443e-95b6-f8649e784fda\">\n",
              "    <div class=\"colab-df-container\">\n",
              "      <div>\n",
              "<style scoped>\n",
              "    .dataframe tbody tr th:only-of-type {\n",
              "        vertical-align: middle;\n",
              "    }\n",
              "\n",
              "    .dataframe tbody tr th {\n",
              "        vertical-align: top;\n",
              "    }\n",
              "\n",
              "    .dataframe thead th {\n",
              "        text-align: right;\n",
              "    }\n",
              "</style>\n",
              "<table border=\"1\" class=\"dataframe\">\n",
              "  <thead>\n",
              "    <tr style=\"text-align: right;\">\n",
              "      <th></th>\n",
              "      <th>Tahun Masuk</th>\n",
              "      <th>IPK</th>\n",
              "      <th>SKS</th>\n",
              "      <th>Status Kelulusan</th>\n",
              "    </tr>\n",
              "  </thead>\n",
              "  <tbody>\n",
              "    <tr>\n",
              "      <th>0</th>\n",
              "      <td>2015</td>\n",
              "      <td>4</td>\n",
              "      <td>103</td>\n",
              "      <td>1</td>\n",
              "    </tr>\n",
              "    <tr>\n",
              "      <th>1</th>\n",
              "      <td>2015</td>\n",
              "      <td>3</td>\n",
              "      <td>103</td>\n",
              "      <td>1</td>\n",
              "    </tr>\n",
              "    <tr>\n",
              "      <th>2</th>\n",
              "      <td>2015</td>\n",
              "      <td>3</td>\n",
              "      <td>98</td>\n",
              "      <td>0</td>\n",
              "    </tr>\n",
              "    <tr>\n",
              "      <th>3</th>\n",
              "      <td>2015</td>\n",
              "      <td>3</td>\n",
              "      <td>101</td>\n",
              "      <td>1</td>\n",
              "    </tr>\n",
              "    <tr>\n",
              "      <th>4</th>\n",
              "      <td>2015</td>\n",
              "      <td>3</td>\n",
              "      <td>101</td>\n",
              "      <td>0</td>\n",
              "    </tr>\n",
              "    <tr>\n",
              "      <th>...</th>\n",
              "      <td>...</td>\n",
              "      <td>...</td>\n",
              "      <td>...</td>\n",
              "      <td>...</td>\n",
              "    </tr>\n",
              "    <tr>\n",
              "      <th>165</th>\n",
              "      <td>2016</td>\n",
              "      <td>3</td>\n",
              "      <td>8</td>\n",
              "      <td>1</td>\n",
              "    </tr>\n",
              "    <tr>\n",
              "      <th>166</th>\n",
              "      <td>2016</td>\n",
              "      <td>3</td>\n",
              "      <td>72</td>\n",
              "      <td>1</td>\n",
              "    </tr>\n",
              "    <tr>\n",
              "      <th>167</th>\n",
              "      <td>2016</td>\n",
              "      <td>3</td>\n",
              "      <td>112</td>\n",
              "      <td>1</td>\n",
              "    </tr>\n",
              "    <tr>\n",
              "      <th>168</th>\n",
              "      <td>2017</td>\n",
              "      <td>3</td>\n",
              "      <td>84</td>\n",
              "      <td>1</td>\n",
              "    </tr>\n",
              "    <tr>\n",
              "      <th>169</th>\n",
              "      <td>2017</td>\n",
              "      <td>3</td>\n",
              "      <td>38</td>\n",
              "      <td>1</td>\n",
              "    </tr>\n",
              "  </tbody>\n",
              "</table>\n",
              "<p>170 rows × 4 columns</p>\n",
              "</div>\n",
              "      <button class=\"colab-df-convert\" onclick=\"convertToInteractive('df-b8740f18-5d58-443e-95b6-f8649e784fda')\"\n",
              "              title=\"Convert this dataframe to an interactive table.\"\n",
              "              style=\"display:none;\">\n",
              "        \n",
              "  <svg xmlns=\"http://www.w3.org/2000/svg\" height=\"24px\"viewBox=\"0 0 24 24\"\n",
              "       width=\"24px\">\n",
              "    <path d=\"M0 0h24v24H0V0z\" fill=\"none\"/>\n",
              "    <path d=\"M18.56 5.44l.94 2.06.94-2.06 2.06-.94-2.06-.94-.94-2.06-.94 2.06-2.06.94zm-11 1L8.5 8.5l.94-2.06 2.06-.94-2.06-.94L8.5 2.5l-.94 2.06-2.06.94zm10 10l.94 2.06.94-2.06 2.06-.94-2.06-.94-.94-2.06-.94 2.06-2.06.94z\"/><path d=\"M17.41 7.96l-1.37-1.37c-.4-.4-.92-.59-1.43-.59-.52 0-1.04.2-1.43.59L10.3 9.45l-7.72 7.72c-.78.78-.78 2.05 0 2.83L4 21.41c.39.39.9.59 1.41.59.51 0 1.02-.2 1.41-.59l7.78-7.78 2.81-2.81c.8-.78.8-2.07 0-2.86zM5.41 20L4 18.59l7.72-7.72 1.47 1.35L5.41 20z\"/>\n",
              "  </svg>\n",
              "      </button>\n",
              "      \n",
              "  <style>\n",
              "    .colab-df-container {\n",
              "      display:flex;\n",
              "      flex-wrap:wrap;\n",
              "      gap: 12px;\n",
              "    }\n",
              "\n",
              "    .colab-df-convert {\n",
              "      background-color: #E8F0FE;\n",
              "      border: none;\n",
              "      border-radius: 50%;\n",
              "      cursor: pointer;\n",
              "      display: none;\n",
              "      fill: #1967D2;\n",
              "      height: 32px;\n",
              "      padding: 0 0 0 0;\n",
              "      width: 32px;\n",
              "    }\n",
              "\n",
              "    .colab-df-convert:hover {\n",
              "      background-color: #E2EBFA;\n",
              "      box-shadow: 0px 1px 2px rgba(60, 64, 67, 0.3), 0px 1px 3px 1px rgba(60, 64, 67, 0.15);\n",
              "      fill: #174EA6;\n",
              "    }\n",
              "\n",
              "    [theme=dark] .colab-df-convert {\n",
              "      background-color: #3B4455;\n",
              "      fill: #D2E3FC;\n",
              "    }\n",
              "\n",
              "    [theme=dark] .colab-df-convert:hover {\n",
              "      background-color: #434B5C;\n",
              "      box-shadow: 0px 1px 3px 1px rgba(0, 0, 0, 0.15);\n",
              "      filter: drop-shadow(0px 1px 2px rgba(0, 0, 0, 0.3));\n",
              "      fill: #FFFFFF;\n",
              "    }\n",
              "  </style>\n",
              "\n",
              "      <script>\n",
              "        const buttonEl =\n",
              "          document.querySelector('#df-b8740f18-5d58-443e-95b6-f8649e784fda button.colab-df-convert');\n",
              "        buttonEl.style.display =\n",
              "          google.colab.kernel.accessAllowed ? 'block' : 'none';\n",
              "\n",
              "        async function convertToInteractive(key) {\n",
              "          const element = document.querySelector('#df-b8740f18-5d58-443e-95b6-f8649e784fda');\n",
              "          const dataTable =\n",
              "            await google.colab.kernel.invokeFunction('convertToInteractive',\n",
              "                                                     [key], {});\n",
              "          if (!dataTable) return;\n",
              "\n",
              "          const docLinkHtml = 'Like what you see? Visit the ' +\n",
              "            '<a target=\"_blank\" href=https://colab.research.google.com/notebooks/data_table.ipynb>data table notebook</a>'\n",
              "            + ' to learn more about interactive tables.';\n",
              "          element.innerHTML = '';\n",
              "          dataTable['output_type'] = 'display_data';\n",
              "          await google.colab.output.renderOutput(dataTable, element);\n",
              "          const docLink = document.createElement('div');\n",
              "          docLink.innerHTML = docLinkHtml;\n",
              "          element.appendChild(docLink);\n",
              "        }\n",
              "      </script>\n",
              "    </div>\n",
              "  </div>\n",
              "  "
            ]
          },
          "metadata": {},
          "execution_count": 1
        }
      ],
      "source": [
        "import numpy as np\n",
        "import pandas as pd\n",
        "import tensorflow as tf\n",
        "import matplotlib.pyplot as plt\n",
        "\n",
        "\n",
        "dataset_url = ('https://raw.githubusercontent.com/dimasw09/BelajarKoding/main/Dataset1.csv')\n",
        "\n",
        "d = pd.read_csv(dataset_url)\n",
        "d.head(170)"
      ]
    },
    {
      "cell_type": "code",
      "execution_count": 2,
      "metadata": {
        "colab": {
          "base_uri": "https://localhost:8080/"
        },
        "id": "0YC4St97Y0H_",
        "outputId": "7724cac9-31ca-4445-dab7-6fc98aeca7e8"
      },
      "outputs": [
        {
          "output_type": "execute_result",
          "data": {
            "text/plain": [
              "Index(['Tahun Masuk', 'IPK', 'SKS', 'Status Kelulusan'], dtype='object')"
            ]
          },
          "metadata": {},
          "execution_count": 2
        }
      ],
      "source": [
        "d.columns"
      ]
    },
    {
      "cell_type": "code",
      "execution_count": 3,
      "metadata": {
        "colab": {
          "base_uri": "https://localhost:8080/"
        },
        "id": "kzX_TNhTeIqo",
        "outputId": "4c24435f-0403-4ff1-be7e-31e58718788b"
      },
      "outputs": [
        {
          "output_type": "stream",
          "name": "stdout",
          "text": [
            "(170, 3)\n"
          ]
        }
      ],
      "source": [
        "x=d.iloc[:,0:-1]\n",
        "y=d.iloc[:,2].values\n",
        "print(x.shape)"
      ]
    },
    {
      "cell_type": "code",
      "source": [
        "#Import Module\n",
        "from sklearn.model_selection import train_test_split\n",
        "\n",
        "\n",
        "train_X, test_X, train_y, test_y = train_test_split(x, y, \n",
        "                                                    train_size=0.7,\n",
        "                                                    test_size=0.3,\n",
        "                                                    random_state=122)"
      ],
      "metadata": {
        "id": "AV8fGibCnZcC"
      },
      "execution_count": 4,
      "outputs": []
    },
    {
      "cell_type": "code",
      "source": [
        "from sklearn.preprocessing import StandardScaler\n",
        "\n",
        "sc = StandardScaler()\n",
        "test_X = sc.fit_transform(test_X)\n",
        "test_y = sc.fit_transform(test_y.reshape(-1,1))\n",
        "print(test_X)\n",
        "print(test_y)"
      ],
      "metadata": {
        "id": "ZZmdA_OnD-Di",
        "colab": {
          "base_uri": "https://localhost:8080/"
        },
        "outputId": "f2991b65-505f-4b97-f23e-26f3485cab8f"
      },
      "execution_count": 5,
      "outputs": [
        {
          "output_type": "stream",
          "name": "stdout",
          "text": [
            "[[-0.19127301 -0.53250075 -0.23230625]\n",
            " [-0.19127301 -0.53250075 -0.18434019]\n",
            " [-0.19127301  1.55654065  0.00752409]\n",
            " [ 3.06036822 -0.53250075  0.43921871]\n",
            " [-0.19127301 -0.53250075  0.72701512]\n",
            " [-0.19127301 -0.53250075 -0.66400087]\n",
            " [-0.19127301 -0.53250075  0.63108298]\n",
            " [-0.19127301  1.55654065  0.91887939]\n",
            " [-0.19127301  1.55654065 -0.4721366 ]\n",
            " [-0.19127301  1.55654065 -0.4721366 ]\n",
            " [-0.19127301 -0.53250075  0.82294726]\n",
            " [-0.19127301 -0.53250075 -0.66400087]\n",
            " [-0.19127301 -0.53250075 -0.75993301]\n",
            " [-0.19127301 -0.53250075  0.67904905]\n",
            " [-0.19127301  1.55654065 -0.66400087]\n",
            " [-0.19127301 -0.53250075 -4.06959174]\n",
            " [-0.19127301 -0.53250075  0.72701512]\n",
            " [-0.19127301 -0.53250075 -0.66400087]\n",
            " [-0.19127301 -0.53250075  0.63108298]\n",
            " [-0.19127301 -0.53250075  0.67904905]\n",
            " [-0.19127301 -0.53250075 -0.04044198]\n",
            " [-0.19127301 -0.53250075 -0.75993301]\n",
            " [-0.19127301 -2.62154215  0.48718478]\n",
            " [-0.19127301 -0.53250075  0.67904905]\n",
            " [-0.19127301 -0.53250075 -2.05501686]\n",
            " [-0.19127301  1.55654065  0.72701512]\n",
            " [-0.19127301  1.55654065  0.72701512]\n",
            " [-0.19127301 -0.53250075  1.11074367]\n",
            " [-0.19127301 -0.53250075  0.58311691]\n",
            " [-0.19127301  1.55654065  0.91887939]\n",
            " [-0.19127301  1.55654065  1.0627776 ]\n",
            " [-0.19127301 -0.53250075 -0.75993301]\n",
            " [-0.19127301 -0.53250075  0.63108298]\n",
            " [ 6.31200946 -0.53250075 -0.90383121]\n",
            " [-0.19127301 -0.53250075 -0.75993301]\n",
            " [-0.19127301  1.55654065  0.87091332]\n",
            " [-0.19127301  1.55654065  0.77498119]\n",
            " [-0.19127301 -0.53250075 -0.56806873]\n",
            " [-0.19127301 -0.53250075  0.87091332]\n",
            " [-0.19127301  1.55654065  0.91887939]\n",
            " [-0.19127301 -0.53250075 -0.4721366 ]\n",
            " [-0.19127301 -0.53250075 -0.75993301]\n",
            " [-0.19127301  1.55654065  1.0627776 ]\n",
            " [-0.19127301 -0.53250075  0.63108298]\n",
            " [-0.19127301 -0.53250075 -0.66400087]\n",
            " [-0.19127301 -0.53250075 -0.75993301]\n",
            " [-0.19127301 -0.53250075  0.77498119]\n",
            " [-0.19127301 -0.53250075 -0.56806873]\n",
            " [-0.19127301 -0.53250075 -2.48671148]\n",
            " [-0.19127301 -0.53250075  0.67904905]\n",
            " [-0.19127301  1.55654065  0.63108298]]\n",
            "[[-0.23230625]\n",
            " [-0.18434019]\n",
            " [ 0.00752409]\n",
            " [ 0.43921871]\n",
            " [ 0.72701512]\n",
            " [-0.66400087]\n",
            " [ 0.63108298]\n",
            " [ 0.91887939]\n",
            " [-0.4721366 ]\n",
            " [-0.4721366 ]\n",
            " [ 0.82294726]\n",
            " [-0.66400087]\n",
            " [-0.75993301]\n",
            " [ 0.67904905]\n",
            " [-0.66400087]\n",
            " [-4.06959174]\n",
            " [ 0.72701512]\n",
            " [-0.66400087]\n",
            " [ 0.63108298]\n",
            " [ 0.67904905]\n",
            " [-0.04044198]\n",
            " [-0.75993301]\n",
            " [ 0.48718478]\n",
            " [ 0.67904905]\n",
            " [-2.05501686]\n",
            " [ 0.72701512]\n",
            " [ 0.72701512]\n",
            " [ 1.11074367]\n",
            " [ 0.58311691]\n",
            " [ 0.91887939]\n",
            " [ 1.0627776 ]\n",
            " [-0.75993301]\n",
            " [ 0.63108298]\n",
            " [-0.90383121]\n",
            " [-0.75993301]\n",
            " [ 0.87091332]\n",
            " [ 0.77498119]\n",
            " [-0.56806873]\n",
            " [ 0.87091332]\n",
            " [ 0.91887939]\n",
            " [-0.4721366 ]\n",
            " [-0.75993301]\n",
            " [ 1.0627776 ]\n",
            " [ 0.63108298]\n",
            " [-0.66400087]\n",
            " [-0.75993301]\n",
            " [ 0.77498119]\n",
            " [-0.56806873]\n",
            " [-2.48671148]\n",
            " [ 0.67904905]\n",
            " [ 0.63108298]]\n"
          ]
        }
      ]
    },
    {
      "cell_type": "code",
      "execution_count": 13,
      "metadata": {
        "colab": {
          "base_uri": "https://localhost:8080/"
        },
        "id": "_Qf8mlIfeP-5",
        "outputId": "f4a12c8f-b10f-4be3-95f7-069077762313"
      },
      "outputs": [
        {
          "output_type": "stream",
          "name": "stdout",
          "text": [
            "Epoch 1/10\n",
            "2/2 [==============================] - 0s 6ms/step - loss: 0.7875\n",
            "Epoch 2/10\n",
            "2/2 [==============================] - 0s 7ms/step - loss: 0.7866\n",
            "Epoch 3/10\n",
            "2/2 [==============================] - 0s 5ms/step - loss: 0.7859\n",
            "Epoch 4/10\n",
            "2/2 [==============================] - 0s 14ms/step - loss: 0.7852\n",
            "Epoch 5/10\n",
            "2/2 [==============================] - 0s 8ms/step - loss: 0.7845\n",
            "Epoch 6/10\n",
            "2/2 [==============================] - 0s 4ms/step - loss: 0.7838\n",
            "Epoch 7/10\n",
            "2/2 [==============================] - 0s 3ms/step - loss: 0.7831\n",
            "Epoch 8/10\n",
            "2/2 [==============================] - 0s 4ms/step - loss: 0.7825\n",
            "Epoch 9/10\n",
            "2/2 [==============================] - 0s 4ms/step - loss: 0.7818\n",
            "Epoch 10/10\n",
            "2/2 [==============================] - 0s 3ms/step - loss: 0.7811\n",
            "Model: \"sequential_2\"\n",
            "_________________________________________________________________\n",
            " Layer (type)                Output Shape              Param #   \n",
            "=================================================================\n",
            " dense_6 (Dense)             (None, 5)                 20        \n",
            "                                                                 \n",
            " dense_7 (Dense)             (None, 4)                 24        \n",
            "                                                                 \n",
            " dense_8 (Dense)             (None, 1)                 5         \n",
            "                                                                 \n",
            "=================================================================\n",
            "Total params: 49\n",
            "Trainable params: 49\n",
            "Non-trainable params: 0\n",
            "_________________________________________________________________\n"
          ]
        }
      ],
      "source": [
        "model = tf.keras.models.Sequential()\n",
        "model.add(tf.keras.layers.Dense(units=5,activation='relu'))\n",
        "model.add(tf.keras.layers.Dense(units=4,activation='relu'))\n",
        "model.add(tf.keras.layers.Dense(units=1,activation='sigmoid'))\n",
        "\n",
        "model.compile(loss='mean_absolute_error', optimizer=tf.keras.optimizers.Adam(0.001))\n",
        "model.fit(test_X,test_y.reshape(-1,1),epochs=10,batch_size=30)\n",
        "\n",
        "model.summary()"
      ]
    },
    {
      "cell_type": "code",
      "execution_count": 14,
      "metadata": {
        "colab": {
          "base_uri": "https://localhost:8080/"
        },
        "id": "caHiKNn2NlxY",
        "outputId": "89dcf4d2-5b0d-4915-a28e-2a8c7fa25316"
      },
      "outputs": [
        {
          "output_type": "stream",
          "name": "stdout",
          "text": [
            "2/2 [==============================] - 0s 5ms/step\n",
            "[[0.4935132 ]\n",
            " [0.4933485 ]\n",
            " [0.48307985]\n",
            " [0.4866772 ]\n",
            " [0.4895415 ]\n",
            " [0.49499574]\n",
            " [0.49001276]\n",
            " [0.46088335]\n",
            " [0.4907505 ]\n",
            " [0.4907505 ]\n",
            " [0.48907024]\n",
            " [0.49499574]\n",
            " [0.49658823]\n",
            " [0.48977715]\n",
            " [0.4925157 ]\n",
            " [0.52108645]\n",
            " [0.4895415 ]\n",
            " [0.49499574]\n",
            " [0.49001276]\n",
            " [0.48977715]\n",
            " [0.49314237]\n",
            " [0.49658823]\n",
            " [0.46492335]\n",
            " [0.48977715]\n",
            " [0.5076944 ]\n",
            " [0.46413836]\n",
            " [0.46413836]\n",
            " [0.48813486]\n",
            " [0.49024847]\n",
            " [0.46088335]\n",
            " [0.46235526]\n",
            " [0.49658823]\n",
            " [0.49001276]\n",
            " [0.42684296]\n",
            " [0.49658823]\n",
            " [0.46086916]\n",
            " [0.46287864]\n",
            " [0.49466628]\n",
            " [0.48883462]\n",
            " [0.46088335]\n",
            " [0.4943368 ]\n",
            " [0.49658823]\n",
            " [0.46235526]\n",
            " [0.49001276]\n",
            " [0.49499574]\n",
            " [0.49658823]\n",
            " [0.48930588]\n",
            " [0.49466628]\n",
            " [0.51056576]\n",
            " [0.48977715]\n",
            " [0.4666591 ]]\n"
          ]
        }
      ],
      "source": [
        "ypredict=model.predict(test_X)\n",
        "print(ypredict)"
      ]
    },
    {
      "cell_type": "code",
      "source": [
        "from sklearn.metrics import mean_absolute_error\n",
        "accuracy=mean_absolute_error(ypredict,test_y)\n",
        "print(accuracy)"
      ],
      "metadata": {
        "id": "Yz2RAMdZrLMk",
        "outputId": "2342a715-d7ff-4726-b34a-9fdf9e347995",
        "colab": {
          "base_uri": "https://localhost:8080/"
        }
      },
      "execution_count": 15,
      "outputs": [
        {
          "output_type": "stream",
          "name": "stdout",
          "text": [
            "0.7806595697509942\n"
          ]
        }
      ]
    },
    {
      "cell_type": "code",
      "source": [
        "a=range(len(test_X))\n",
        "plt.scatter(a,test_y, color='red')\n",
        "plt.plot(a,ypredict, color='blue')\n",
        "plt.title('Prediksi kelulusan mahasiswa')\n",
        "plt.xlabel('Data variable x')\n",
        "plt.ylabel('Data variable y')\n",
        "# plt.plot(x,ypredict)\n",
        "plt.figure()"
      ],
      "metadata": {
        "id": "k8E1q6zuz3v1",
        "outputId": "77d6c0a4-b865-47fd-82f8-cb4c921c0b70",
        "colab": {
          "base_uri": "https://localhost:8080/",
          "height": 330
        }
      },
      "execution_count": 17,
      "outputs": [
        {
          "output_type": "execute_result",
          "data": {
            "text/plain": [
              "<Figure size 432x288 with 0 Axes>"
            ]
          },
          "metadata": {},
          "execution_count": 17
        },
        {
          "output_type": "display_data",
          "data": {
            "text/plain": [
              "<Figure size 432x288 with 1 Axes>"
            ],
            "image/png": "[encoded data removed]"
          },
          "metadata": {
            "needs_background": "light"
          }
        },
        {
          "output_type": "display_data",
          "data": {
            "text/plain": [
              "<Figure size 432x288 with 0 Axes>"
            ]
          },
          "metadata": {}
        }
      ]
    }
  ],
  "metadata": {
    "colab": {
      "provenance": [],
      "include_colab_link": true
    },
    "kernelspec": {
      "display_name": "Python 3",
      "name": "python3"
    },
    "language_info": {
      "name": "python"
    }
  },
  "nbformat": 4,
  "nbformat_minor": 0
}