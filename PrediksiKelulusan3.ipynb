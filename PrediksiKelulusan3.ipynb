{
  "cells": [
    {
      "cell_type": "markdown",
      "metadata": {
        "id": "view-in-github",
        "colab_type": "text"
      },
      "source": [
        "<a href=\"https://colab.research.google.com/github/dimasw09/BelajarKoding/blob/main/PrediksiKelulusan3.ipynb\" target=\"_parent\"><img src=\"https://colab.research.google.com/assets/colab-badge.svg\" alt=\"Open In Colab\"/></a>"
      ]
    },
    {
      "cell_type": "code",
      "execution_count": 47,
      "metadata": {
        "colab": {
          "base_uri": "https://localhost:8080/",
          "height": 296
        },
        "id": "gArDDLSXdvvf",
        "outputId": "462c81c4-7fd1-451e-a248-4457d497a300"
      },
      "outputs": [
        {
          "output_type": "execute_result",
          "data": {
            "text/plain": [
              "<matplotlib.axes._subplots.AxesSubplot at 0x7f6191383070>"
            ]
          },
          "metadata": {},
          "execution_count": 47
        },
        {
          "output_type": "display_data",
          "data": {
            "text/plain": [
              "<Figure size 432x288 with 1 Axes>"
            ],
            "image/png": "[encoded data removed]"
          },
          "metadata": {
            "needs_background": "light"
          }
        }
      ],
      "source": [
        "import numpy as np\n",
        "import pandas as pd\n",
        "import tensorflow as tf\n",
        "import matplotlib.pyplot as plt\n",
        "import seaborn as sns\n",
        "\n",
        "\n",
        "dataset_url = ('https://raw.githubusercontent.com/dimasw09/BelajarKoding/main/Dataset1.csv')\n",
        "\n",
        "d = pd.read_csv(dataset_url)\n",
        "# d.head(170)\n",
        "sns.scatterplot(x=d['IPK'],y=d['Status Kelulusan'])"
      ]
    },
    {
      "cell_type": "code",
      "execution_count": 48,
      "metadata": {
        "colab": {
          "base_uri": "https://localhost:8080/"
        },
        "id": "0YC4St97Y0H_",
        "outputId": "b02bbd6a-3b51-4fc3-f702-625176121dad"
      },
      "outputs": [
        {
          "output_type": "execute_result",
          "data": {
            "text/plain": [
              "Index(['Tahun Masuk', 'IPK', 'SKS', 'Status Kelulusan'], dtype='object')"
            ]
          },
          "metadata": {},
          "execution_count": 48
        }
      ],
      "source": [
        "d.columns"
      ]
    },
    {
      "cell_type": "code",
      "execution_count": 49,
      "metadata": {
        "id": "kzX_TNhTeIqo"
      },
      "outputs": [],
      "source": [
        "x=d.iloc[:,0:-1]\n",
        "y=d.iloc[:,2].values"
      ]
    },
    {
      "cell_type": "code",
      "source": [
        "#Import Module\n",
        "from sklearn.model_selection import train_test_split\n",
        "\n",
        "\n",
        "train_X, test_X, train_y, test_y = train_test_split(x, y, \n",
        "                                                    train_size=0.7,\n",
        "                                                    test_size=0.3,\n",
        "                                                    random_state=122)"
      ],
      "metadata": {
        "id": "AV8fGibCnZcC"
      },
      "execution_count": 50,
      "outputs": []
    },
    {
      "cell_type": "code",
      "source": [
        "from sklearn.preprocessing import StandardScaler\n",
        "\n",
        "sc = StandardScaler()\n",
        "test_X = sc.fit_transform(test_X)\n",
        "test_y = sc.fit_transform(test_y.reshape(-1,1))\n",
        "# print(test_X)\n",
        "# print(test_y)"
      ],
      "metadata": {
        "id": "ZZmdA_OnD-Di"
      },
      "execution_count": 51,
      "outputs": []
    },
    {
      "cell_type": "code",
      "execution_count": 57,
      "metadata": {
        "colab": {
          "base_uri": "https://localhost:8080/"
        },
        "id": "_Qf8mlIfeP-5",
        "outputId": "603e7f0c-b8bd-4b76-9e4d-41490290c11f"
      },
      "outputs": [
        {
          "output_type": "stream",
          "name": "stdout",
          "text": [
            "Epoch 1/100\n",
            "2/2 [==============================] - 1s 10ms/step - loss: 0.8330\n",
            "Epoch 2/100\n",
            "2/2 [==============================] - 0s 6ms/step - loss: 0.8303\n",
            "Epoch 3/100\n",
            "2/2 [==============================] - 0s 9ms/step - loss: 0.8275\n",
            "Epoch 4/100\n",
            "2/2 [==============================] - 0s 7ms/step - loss: 0.8250\n",
            "Epoch 5/100\n",
            "2/2 [==============================] - 0s 18ms/step - loss: 0.8229\n",
            "Epoch 6/100\n",
            "2/2 [==============================] - 0s 16ms/step - loss: 0.8207\n",
            "Epoch 7/100\n",
            "2/2 [==============================] - 0s 7ms/step - loss: 0.8185\n",
            "Epoch 8/100\n",
            "2/2 [==============================] - 0s 12ms/step - loss: 0.8161\n",
            "Epoch 9/100\n",
            "2/2 [==============================] - 0s 15ms/step - loss: 0.8144\n",
            "Epoch 10/100\n",
            "2/2 [==============================] - 0s 12ms/step - loss: 0.8119\n",
            "Epoch 11/100\n",
            "2/2 [==============================] - 0s 24ms/step - loss: 0.8096\n",
            "Epoch 12/100\n",
            "2/2 [==============================] - 0s 11ms/step - loss: 0.8075\n",
            "Epoch 13/100\n",
            "2/2 [==============================] - 0s 18ms/step - loss: 0.8051\n",
            "Epoch 14/100\n",
            "2/2 [==============================] - 0s 21ms/step - loss: 0.8030\n",
            "Epoch 15/100\n",
            "2/2 [==============================] - 0s 8ms/step - loss: 0.8007\n",
            "Epoch 16/100\n",
            "2/2 [==============================] - 0s 7ms/step - loss: 0.7983\n",
            "Epoch 17/100\n",
            "2/2 [==============================] - 0s 9ms/step - loss: 0.7961\n",
            "Epoch 18/100\n",
            "2/2 [==============================] - 0s 9ms/step - loss: 0.7936\n",
            "Epoch 19/100\n",
            "2/2 [==============================] - 0s 9ms/step - loss: 0.7913\n",
            "Epoch 20/100\n",
            "2/2 [==============================] - 0s 10ms/step - loss: 0.7889\n",
            "Epoch 21/100\n",
            "2/2 [==============================] - 0s 9ms/step - loss: 0.7866\n",
            "Epoch 22/100\n",
            "2/2 [==============================] - 0s 18ms/step - loss: 0.7842\n",
            "Epoch 23/100\n",
            "2/2 [==============================] - 0s 16ms/step - loss: 0.7815\n",
            "Epoch 24/100\n",
            "2/2 [==============================] - 0s 16ms/step - loss: 0.7791\n",
            "Epoch 25/100\n",
            "2/2 [==============================] - 0s 10ms/step - loss: 0.7770\n",
            "Epoch 26/100\n",
            "2/2 [==============================] - 0s 9ms/step - loss: 0.7741\n",
            "Epoch 27/100\n",
            "2/2 [==============================] - 0s 5ms/step - loss: 0.7714\n",
            "Epoch 28/100\n",
            "2/2 [==============================] - 0s 12ms/step - loss: 0.7692\n",
            "Epoch 29/100\n",
            "2/2 [==============================] - 0s 15ms/step - loss: 0.7664\n",
            "Epoch 30/100\n",
            "2/2 [==============================] - 0s 10ms/step - loss: 0.7640\n",
            "Epoch 31/100\n",
            "2/2 [==============================] - 0s 7ms/step - loss: 0.7615\n",
            "Epoch 32/100\n",
            "2/2 [==============================] - 0s 11ms/step - loss: 0.7589\n",
            "Epoch 33/100\n",
            "2/2 [==============================] - 0s 8ms/step - loss: 0.7568\n",
            "Epoch 34/100\n",
            "2/2 [==============================] - 0s 20ms/step - loss: 0.7545\n",
            "Epoch 35/100\n",
            "2/2 [==============================] - 0s 7ms/step - loss: 0.7528\n",
            "Epoch 36/100\n",
            "2/2 [==============================] - 0s 25ms/step - loss: 0.7510\n",
            "Epoch 37/100\n",
            "2/2 [==============================] - 0s 24ms/step - loss: 0.7491\n",
            "Epoch 38/100\n",
            "2/2 [==============================] - 0s 9ms/step - loss: 0.7472\n",
            "Epoch 39/100\n",
            "2/2 [==============================] - 0s 8ms/step - loss: 0.7455\n",
            "Epoch 40/100\n",
            "2/2 [==============================] - 0s 15ms/step - loss: 0.7436\n",
            "Epoch 41/100\n",
            "2/2 [==============================] - 0s 13ms/step - loss: 0.7421\n",
            "Epoch 42/100\n",
            "2/2 [==============================] - 0s 13ms/step - loss: 0.7406\n",
            "Epoch 43/100\n",
            "2/2 [==============================] - 0s 11ms/step - loss: 0.7388\n",
            "Epoch 44/100\n",
            "2/2 [==============================] - 0s 14ms/step - loss: 0.7372\n",
            "Epoch 45/100\n",
            "2/2 [==============================] - 0s 5ms/step - loss: 0.7356\n",
            "Epoch 46/100\n",
            "2/2 [==============================] - 0s 10ms/step - loss: 0.7342\n",
            "Epoch 47/100\n",
            "2/2 [==============================] - 0s 15ms/step - loss: 0.7325\n",
            "Epoch 48/100\n",
            "2/2 [==============================] - 0s 9ms/step - loss: 0.7311\n",
            "Epoch 49/100\n",
            "2/2 [==============================] - 0s 13ms/step - loss: 0.7296\n",
            "Epoch 50/100\n",
            "2/2 [==============================] - 0s 7ms/step - loss: 0.7281\n",
            "Epoch 51/100\n",
            "2/2 [==============================] - 0s 7ms/step - loss: 0.7265\n",
            "Epoch 52/100\n",
            "2/2 [==============================] - 0s 6ms/step - loss: 0.7250\n",
            "Epoch 53/100\n",
            "2/2 [==============================] - 0s 20ms/step - loss: 0.7234\n",
            "Epoch 54/100\n",
            "2/2 [==============================] - 0s 8ms/step - loss: 0.7218\n",
            "Epoch 55/100\n",
            "2/2 [==============================] - 0s 13ms/step - loss: 0.7203\n",
            "Epoch 56/100\n",
            "2/2 [==============================] - 0s 9ms/step - loss: 0.7187\n",
            "Epoch 57/100\n",
            "2/2 [==============================] - 0s 13ms/step - loss: 0.7172\n",
            "Epoch 58/100\n",
            "2/2 [==============================] - 0s 7ms/step - loss: 0.7158\n",
            "Epoch 59/100\n",
            "2/2 [==============================] - 0s 5ms/step - loss: 0.7140\n",
            "Epoch 60/100\n",
            "2/2 [==============================] - 0s 6ms/step - loss: 0.7124\n",
            "Epoch 61/100\n",
            "2/2 [==============================] - 0s 7ms/step - loss: 0.7108\n",
            "Epoch 62/100\n",
            "2/2 [==============================] - 0s 10ms/step - loss: 0.7092\n",
            "Epoch 63/100\n",
            "2/2 [==============================] - 0s 10ms/step - loss: 0.7075\n",
            "Epoch 64/100\n",
            "2/2 [==============================] - 0s 11ms/step - loss: 0.7059\n",
            "Epoch 65/100\n",
            "2/2 [==============================] - 0s 28ms/step - loss: 0.7041\n",
            "Epoch 66/100\n",
            "2/2 [==============================] - 0s 8ms/step - loss: 0.7025\n",
            "Epoch 67/100\n",
            "2/2 [==============================] - 0s 7ms/step - loss: 0.7009\n",
            "Epoch 68/100\n",
            "2/2 [==============================] - 0s 40ms/step - loss: 0.6991\n",
            "Epoch 69/100\n",
            "2/2 [==============================] - 0s 7ms/step - loss: 0.6976\n",
            "Epoch 70/100\n",
            "2/2 [==============================] - 0s 19ms/step - loss: 0.6959\n",
            "Epoch 71/100\n",
            "2/2 [==============================] - 0s 4ms/step - loss: 0.6941\n",
            "Epoch 72/100\n",
            "2/2 [==============================] - 0s 16ms/step - loss: 0.6924\n",
            "Epoch 73/100\n",
            "2/2 [==============================] - 0s 7ms/step - loss: 0.6908\n",
            "Epoch 74/100\n",
            "2/2 [==============================] - 0s 8ms/step - loss: 0.6890\n",
            "Epoch 75/100\n",
            "2/2 [==============================] - 0s 14ms/step - loss: 0.6873\n",
            "Epoch 76/100\n",
            "2/2 [==============================] - 0s 6ms/step - loss: 0.6855\n",
            "Epoch 77/100\n",
            "2/2 [==============================] - 0s 8ms/step - loss: 0.6838\n",
            "Epoch 78/100\n",
            "2/2 [==============================] - 0s 15ms/step - loss: 0.6820\n",
            "Epoch 79/100\n",
            "2/2 [==============================] - 0s 10ms/step - loss: 0.6802\n",
            "Epoch 80/100\n",
            "2/2 [==============================] - 0s 6ms/step - loss: 0.6786\n",
            "Epoch 81/100\n",
            "2/2 [==============================] - 0s 6ms/step - loss: 0.6767\n",
            "Epoch 82/100\n",
            "2/2 [==============================] - 0s 6ms/step - loss: 0.6750\n",
            "Epoch 83/100\n",
            "2/2 [==============================] - 0s 24ms/step - loss: 0.6730\n",
            "Epoch 84/100\n",
            "2/2 [==============================] - 0s 8ms/step - loss: 0.6713\n",
            "Epoch 85/100\n",
            "2/2 [==============================] - 0s 17ms/step - loss: 0.6696\n",
            "Epoch 86/100\n",
            "2/2 [==============================] - 0s 7ms/step - loss: 0.6678\n",
            "Epoch 87/100\n",
            "2/2 [==============================] - 0s 17ms/step - loss: 0.6659\n",
            "Epoch 88/100\n",
            "2/2 [==============================] - 0s 34ms/step - loss: 0.6642\n",
            "Epoch 89/100\n",
            "2/2 [==============================] - 0s 6ms/step - loss: 0.6623\n",
            "Epoch 90/100\n",
            "2/2 [==============================] - 0s 10ms/step - loss: 0.6605\n",
            "Epoch 91/100\n",
            "2/2 [==============================] - 0s 9ms/step - loss: 0.6588\n",
            "Epoch 92/100\n",
            "2/2 [==============================] - 0s 14ms/step - loss: 0.6569\n",
            "Epoch 93/100\n",
            "2/2 [==============================] - 0s 13ms/step - loss: 0.6550\n",
            "Epoch 94/100\n",
            "2/2 [==============================] - 0s 14ms/step - loss: 0.6533\n",
            "Epoch 95/100\n",
            "2/2 [==============================] - 0s 11ms/step - loss: 0.6514\n",
            "Epoch 96/100\n",
            "2/2 [==============================] - 0s 15ms/step - loss: 0.6495\n",
            "Epoch 97/100\n",
            "2/2 [==============================] - 0s 9ms/step - loss: 0.6477\n",
            "Epoch 98/100\n",
            "2/2 [==============================] - 0s 11ms/step - loss: 0.6459\n",
            "Epoch 99/100\n",
            "2/2 [==============================] - 0s 10ms/step - loss: 0.6441\n",
            "Epoch 100/100\n",
            "2/2 [==============================] - 0s 12ms/step - loss: 0.6422\n",
            "Model: \"sequential_10\"\n",
            "_________________________________________________________________\n",
            " Layer (type)                Output Shape              Param #   \n",
            "=================================================================\n",
            " dense_35 (Dense)            (None, 5)                 20        \n",
            "                                                                 \n",
            " dense_36 (Dense)            (None, 4)                 24        \n",
            "                                                                 \n",
            " dense_37 (Dense)            (None, 1)                 5         \n",
            "                                                                 \n",
            "=================================================================\n",
            "Total params: 49\n",
            "Trainable params: 49\n",
            "Non-trainable params: 0\n",
            "_________________________________________________________________\n"
          ]
        }
      ],
      "source": [
        "model = tf.keras.models.Sequential()\n",
        "model.add(tf.keras.layers.Dense(units=5,activation='relu'))\n",
        "model.add(tf.keras.layers.Dense(units=4,activation='relu'))\n",
        "model.add(tf.keras.layers.Dense(units=1,activation='sigmoid'))\n",
        "\n",
        "model.compile(loss='mean_absolute_error', optimizer=tf.keras.optimizers.Adam(0.001))\n",
        "model.fit(test_X,test_y.reshape(-1,1),epochs=100,batch_size=30)\n",
        "\n",
        "model.summary()"
      ]
    },
    {
      "cell_type": "code",
      "execution_count": 58,
      "metadata": {
        "colab": {
          "base_uri": "https://localhost:8080/"
        },
        "id": "caHiKNn2NlxY",
        "outputId": "5c929b9b-30fc-48e6-96ef-2386fc3b5574"
      },
      "outputs": [
        {
          "output_type": "stream",
          "name": "stdout",
          "text": [
            "2/2 [==============================] - 0s 5ms/step\n"
          ]
        }
      ],
      "source": [
        "ypredict=model.predict(test_X)\n"
      ]
    },
    {
      "cell_type": "code",
      "source": [
        "from sklearn.metrics import mean_absolute_error\n",
        "accuracy=mean_absolute_error(ypredict,test_y)\n",
        "print(accuracy)"
      ],
      "metadata": {
        "id": "Yz2RAMdZrLMk",
        "outputId": "c29895d4-7f52-460e-bcf9-390cb02de2c4",
        "colab": {
          "base_uri": "https://localhost:8080/"
        }
      },
      "execution_count": 59,
      "outputs": [
        {
          "output_type": "stream",
          "name": "stdout",
          "text": [
            "0.6406243657057406\n"
          ]
        }
      ]
    },
    {
      "cell_type": "code",
      "source": [
        "a=range(len(test_X))\n",
        "plt.scatter(a,test_y, color='red')\n",
        "plt.plot(a,ypredict, color='blue')\n",
        "plt.title('Prediksi kelulusan mahasiswa')\n",
        "# plt.plot(x,ypredict)\n",
        "plt.figure()"
      ],
      "metadata": {
        "id": "k8E1q6zuz3v1",
        "outputId": "bc09fae2-065c-47f9-cc0d-866ada1fe260",
        "colab": {
          "base_uri": "https://localhost:8080/",
          "height": 316
        }
      },
      "execution_count": 60,
      "outputs": [
        {
          "output_type": "execute_result",
          "data": {
            "text/plain": [
              "<Figure size 432x288 with 0 Axes>"
            ]
          },
          "metadata": {},
          "execution_count": 60
        },
        {
          "output_type": "display_data",
          "data": {
            "text/plain": [
              "<Figure size 432x288 with 1 Axes>"
            ],
            "image/png": "[encoded data removed]"
          },
          "metadata": {
            "needs_background": "light"
          }
        },
        {
          "output_type": "display_data",
          "data": {
            "text/plain": [
              "<Figure size 432x288 with 0 Axes>"
            ]
          },
          "metadata": {}
        }
      ]
    },
    {
      "cell_type": "code",
      "source": [
        "plt.plot(a,ypredict)\n",
        "\n",
        "plt.title('Prediksi kelulusan mahasiswa')\n",
        "plt.grid(True)\n",
        "\n",
        "plt.show()"
      ],
      "metadata": {
        "id": "AbTU4G63i8_Z",
        "outputId": "325f76e8-8e57-40a5-d95b-834dd2798bda",
        "colab": {
          "base_uri": "https://localhost:8080/",
          "height": 281
        }
      },
      "execution_count": 61,
      "outputs": [
        {
          "output_type": "display_data",
          "data": {
            "text/plain": [
              "<Figure size 432x288 with 1 Axes>"
            ],
            "image/png": "[encoded data removed]"
          },
          "metadata": {
            "needs_background": "light"
          }
        }
      ]
    }
  ],
  "metadata": {
    "colab": {
      "provenance": [],
      "include_colab_link": true
    },
    "kernelspec": {
      "display_name": "Python 3",
      "name": "python3"
    },
    "language_info": {
      "name": "python"
    }
  },
  "nbformat": 4,
  "nbformat_minor": 0
}